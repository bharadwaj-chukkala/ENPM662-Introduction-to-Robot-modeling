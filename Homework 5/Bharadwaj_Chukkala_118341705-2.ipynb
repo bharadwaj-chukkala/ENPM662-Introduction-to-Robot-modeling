{
  "nbformat": 4,
  "nbformat_minor": 0,
  "metadata": {
    "colab": {
      "name": "Bharadwaj_Chukkala_118341705.ipynb",
      "provenance": [],
      "collapsed_sections": []
    },
    "kernelspec": {
      "name": "python3",
      "display_name": "Python 3"
    },
    "language_info": {
      "name": "python"
    }
  },
  "cells": [
    {
      "cell_type": "markdown",
      "metadata": {
        "id": "nRClkebhpw2C"
      },
      "source": [
        "**Name**: Bharadwaj Chukkala\n",
        "\n",
        "UID: 118341705\n",
        "\n"
      ]
    },
    {
      "cell_type": "markdown",
      "metadata": {
        "id": "6LYiyhUknBxV"
      },
      "source": [
        "##**Plotting Joint Torques of KUKA LWR WIIA**"
      ]
    },
    {
      "cell_type": "markdown",
      "metadata": {
        "id": "-4Jiq81jnXrd"
      },
      "source": [
        "**Conditions**: \n",
        "\n",
        "\n",
        "*   Consider  a  KUKA  WIIA  robot  with  a  pen  (L=10  cm)  attached  as  the  end  effector  of  the  robot  along  Z \n",
        "direction of the  local frame. \n",
        "*   Assume that joint 3 is locked and will not be able to \n",
        "move so the Jacobian matric is square matrix.\n",
        "\n",
        "\n",
        "\n",
        "\n"
      ]
    },
    {
      "cell_type": "markdown",
      "metadata": {
        "id": "lsDwE2gzs8Hr"
      },
      "source": [
        "The total weight of the KUKA LWR is 23.9kg ~ 24kg\n",
        "\n",
        "Assumption: Considering the weight of each link of KUKA to be equal due to the lack of sufficient data."
      ]
    },
    {
      "cell_type": "code",
      "metadata": {
        "id": "tW3RklSB-yBC"
      },
      "source": [
        "M = 24\n",
        "n_links = 6\n",
        "m = M/n_links\n",
        "\n",
        "# Taking Gravitational Constant NEGATIVE to obtain positive Potential Energy\n",
        "g = -9.81"
      ],
      "execution_count": 214,
      "outputs": []
    },
    {
      "cell_type": "markdown",
      "metadata": {
        "id": "8S3cYWW8swJI"
      },
      "source": [
        "##**Importing Libraries**\n"
      ]
    },
    {
      "cell_type": "code",
      "metadata": {
        "id": "GxH5JYlngc3R"
      },
      "source": [
        "import sympy as sym\n",
        "sym.init_printing()\n",
        "\n",
        "from sympy import *\n",
        "\n",
        "from sympy.physics.vector import Vector\n",
        "Vector.simp = True"
      ],
      "execution_count": 215,
      "outputs": []
    },
    {
      "cell_type": "code",
      "metadata": {
        "id": "xLnfxV7q4yda"
      },
      "source": [
        "import numpy as np\n",
        "from numpy import *\n",
        "import math"
      ],
      "execution_count": 216,
      "outputs": []
    },
    {
      "cell_type": "markdown",
      "metadata": {
        "id": "PO0TZBs8rTkw"
      },
      "source": [
        "Initialization of Variables"
      ]
    },
    {
      "cell_type": "code",
      "metadata": {
        "id": "QRday7c7npOm"
      },
      "source": [
        "theta1, theta2, theta3, theta4, theta5, theta6, theta7 = sym.symbols(\"\\\\theta_1, theta_2, theta_3, theta_4, theta_5, theta_6, theta_7\")\n",
        "d1, d3, d5, d7 = sym.symbols(\"d_1,d_3,d_5,d_7\")\n",
        "\n",
        "d1 = 360\n",
        "d3 = 420\n",
        "d5 = 399.5\n",
        "d7 = 205.5"
      ],
      "execution_count": 217,
      "outputs": []
    },
    {
      "cell_type": "markdown",
      "metadata": {
        "id": "uO4Fjwium0Ya"
      },
      "source": [
        "## Tranformation ***Matrices*** (Forward Kinematics)"
      ]
    },
    {
      "cell_type": "markdown",
      "metadata": {
        "id": "l3-_SW9Gs7G2"
      },
      "source": [
        "**Calculating Transformation Matrices** from DH Parameters"
      ]
    },
    {
      "cell_type": "code",
      "metadata": {
        "colab": {
          "base_uri": "https://localhost:8080/",
          "height": 99
        },
        "id": "aofTwM5inrSJ",
        "outputId": "53ceb596-ee2e-4a83-a02f-bd3467ce9b25"
      },
      "source": [
        "A1 = sym.Matrix([[sym.cos(theta1), 0, -sym.sin(theta1), 0], [sym.sin(theta1), 0, sym.cos(theta1), 0], [0, -1, 0, d1], [0, 0, 0, 1]])\n",
        "A1"
      ],
      "execution_count": 218,
      "outputs": [
        {
          "output_type": "execute_result",
          "data": {
            "text/latex": "$\\displaystyle \\left[\\begin{matrix}\\cos{\\left(\\theta_{1} \\right)} & 0 & - \\sin{\\left(\\theta_{1} \\right)} & 0\\\\\\sin{\\left(\\theta_{1} \\right)} & 0 & \\cos{\\left(\\theta_{1} \\right)} & 0\\\\0 & -1 & 0 & 360\\\\0 & 0 & 0 & 1\\end{matrix}\\right]$",
            "text/plain": [
              "⎡cos(\\theta₁)  0   -sin(\\theta₁)   0 ⎤\n",
              "⎢                                    ⎥\n",
              "⎢sin(\\theta₁)  0   cos(\\theta₁)    0 ⎥\n",
              "⎢                                    ⎥\n",
              "⎢     0        -1        0        360⎥\n",
              "⎢                                    ⎥\n",
              "⎣     0        0         0         1 ⎦"
            ]
          },
          "metadata": {},
          "execution_count": 218
        }
      ]
    },
    {
      "cell_type": "code",
      "metadata": {
        "colab": {
          "base_uri": "https://localhost:8080/",
          "height": 99
        },
        "id": "pwk_YK6gnuUT",
        "outputId": "9adbd434-ac1c-443d-b635-5071bb03f170"
      },
      "source": [
        "A2 = sym.Matrix([[sym.cos(theta2), 0, sym.sin(theta2), 0], [sym.sin(theta2), 0, -sym.cos(theta2), 0], [0, 1, 0, 0], [0, 0, 0, 1]])\n",
        "A2"
      ],
      "execution_count": 219,
      "outputs": [
        {
          "output_type": "execute_result",
          "data": {
            "text/latex": "$\\displaystyle \\left[\\begin{matrix}\\cos{\\left(\\theta_{2} \\right)} & 0 & \\sin{\\left(\\theta_{2} \\right)} & 0\\\\\\sin{\\left(\\theta_{2} \\right)} & 0 & - \\cos{\\left(\\theta_{2} \\right)} & 0\\\\0 & 1 & 0 & 0\\\\0 & 0 & 0 & 1\\end{matrix}\\right]$",
            "text/plain": [
              "⎡cos(θ₂)  0  sin(θ₂)   0⎤\n",
              "⎢                       ⎥\n",
              "⎢sin(θ₂)  0  -cos(θ₂)  0⎥\n",
              "⎢                       ⎥\n",
              "⎢   0     1     0      0⎥\n",
              "⎢                       ⎥\n",
              "⎣   0     0     0      1⎦"
            ]
          },
          "metadata": {},
          "execution_count": 219
        }
      ]
    },
    {
      "cell_type": "code",
      "metadata": {
        "colab": {
          "base_uri": "https://localhost:8080/",
          "height": 99
        },
        "id": "O9ePoJQS4w4O",
        "outputId": "cde41bc7-6102-4f66-cd90-ba7baad974fb"
      },
      "source": [
        "A3 = sym.Matrix([[sym.cos(0), 0, sym.sin(0), 0], [sym.sin(0), 0, -sym.cos(0), 0], [0, 1, 0, d3], [0, 0, 0, 1]])\n",
        "A3"
      ],
      "execution_count": 220,
      "outputs": [
        {
          "output_type": "execute_result",
          "data": {
            "text/latex": "$\\displaystyle \\left[\\begin{matrix}1 & 0 & 0 & 0\\\\0 & 0 & -1 & 0\\\\0 & 1 & 0 & 420\\\\0 & 0 & 0 & 1\\end{matrix}\\right]$",
            "text/plain": [
              "⎡1  0  0    0 ⎤\n",
              "⎢             ⎥\n",
              "⎢0  0  -1   0 ⎥\n",
              "⎢             ⎥\n",
              "⎢0  1  0   420⎥\n",
              "⎢             ⎥\n",
              "⎣0  0  0    1 ⎦"
            ]
          },
          "metadata": {},
          "execution_count": 220
        }
      ]
    },
    {
      "cell_type": "code",
      "metadata": {
        "colab": {
          "base_uri": "https://localhost:8080/",
          "height": 99
        },
        "id": "5YI7SuGVn0TJ",
        "outputId": "e6d78b8d-3922-4967-e628-6752212b6fd3"
      },
      "source": [
        "A4 = sym.Matrix([[sym.cos(theta4), 0, -sym.sin(theta4), 0], [sym.sin(theta4), 0, sym.cos(theta4), 0], [0, -1, 0, 0], [0, 0, 0, 1]])\n",
        "A4"
      ],
      "execution_count": 221,
      "outputs": [
        {
          "output_type": "execute_result",
          "data": {
            "text/latex": "$\\displaystyle \\left[\\begin{matrix}\\cos{\\left(\\theta_{4} \\right)} & 0 & - \\sin{\\left(\\theta_{4} \\right)} & 0\\\\\\sin{\\left(\\theta_{4} \\right)} & 0 & \\cos{\\left(\\theta_{4} \\right)} & 0\\\\0 & -1 & 0 & 0\\\\0 & 0 & 0 & 1\\end{matrix}\\right]$",
            "text/plain": [
              "⎡cos(θ₄)  0   -sin(θ₄)  0⎤\n",
              "⎢                        ⎥\n",
              "⎢sin(θ₄)  0   cos(θ₄)   0⎥\n",
              "⎢                        ⎥\n",
              "⎢   0     -1     0      0⎥\n",
              "⎢                        ⎥\n",
              "⎣   0     0      0      1⎦"
            ]
          },
          "metadata": {},
          "execution_count": 221
        }
      ]
    },
    {
      "cell_type": "code",
      "metadata": {
        "colab": {
          "base_uri": "https://localhost:8080/",
          "height": 99
        },
        "id": "acozT8Lbn2ce",
        "outputId": "f5c7ac6e-14b5-4761-be8d-fdc9aed22710"
      },
      "source": [
        "A5 = sym.Matrix([[sym.cos(theta5), 0, -sym.sin(theta5), 0], [sym.sin(theta5), 0, sym.cos(theta5), 0], [0, -1, 0, d5], [0, 0, 0, 1]])\n",
        "A5"
      ],
      "execution_count": 222,
      "outputs": [
        {
          "output_type": "execute_result",
          "data": {
            "text/latex": "$\\displaystyle \\left[\\begin{matrix}\\cos{\\left(\\theta_{5} \\right)} & 0 & - \\sin{\\left(\\theta_{5} \\right)} & 0\\\\\\sin{\\left(\\theta_{5} \\right)} & 0 & \\cos{\\left(\\theta_{5} \\right)} & 0\\\\0 & -1 & 0 & 399.5\\\\0 & 0 & 0 & 1\\end{matrix}\\right]$",
            "text/plain": [
              "⎡cos(θ₅)  0   -sin(θ₅)    0  ⎤\n",
              "⎢                            ⎥\n",
              "⎢sin(θ₅)  0   cos(θ₅)     0  ⎥\n",
              "⎢                            ⎥\n",
              "⎢   0     -1     0      399.5⎥\n",
              "⎢                            ⎥\n",
              "⎣   0     0      0        1  ⎦"
            ]
          },
          "metadata": {},
          "execution_count": 222
        }
      ]
    },
    {
      "cell_type": "code",
      "metadata": {
        "colab": {
          "base_uri": "https://localhost:8080/",
          "height": 99
        },
        "id": "5Kqkqmw3n53q",
        "outputId": "9f5538bd-26d6-4bbc-8be9-6d0f86e066da"
      },
      "source": [
        "A6 = sym.Matrix([[sym.cos(theta6), 0, sym.sin(theta6), 0], [sym.sin(theta6), 0, -sym.cos(theta6), 0], [0, 1, 0, 0], [0, 0, 0, 1]])\n",
        "A6"
      ],
      "execution_count": 223,
      "outputs": [
        {
          "output_type": "execute_result",
          "data": {
            "text/latex": "$\\displaystyle \\left[\\begin{matrix}\\cos{\\left(\\theta_{6} \\right)} & 0 & \\sin{\\left(\\theta_{6} \\right)} & 0\\\\\\sin{\\left(\\theta_{6} \\right)} & 0 & - \\cos{\\left(\\theta_{6} \\right)} & 0\\\\0 & 1 & 0 & 0\\\\0 & 0 & 0 & 1\\end{matrix}\\right]$",
            "text/plain": [
              "⎡cos(θ₆)  0  sin(θ₆)   0⎤\n",
              "⎢                       ⎥\n",
              "⎢sin(θ₆)  0  -cos(θ₆)  0⎥\n",
              "⎢                       ⎥\n",
              "⎢   0     1     0      0⎥\n",
              "⎢                       ⎥\n",
              "⎣   0     0     0      1⎦"
            ]
          },
          "metadata": {},
          "execution_count": 223
        }
      ]
    },
    {
      "cell_type": "code",
      "metadata": {
        "colab": {
          "base_uri": "https://localhost:8080/",
          "height": 99
        },
        "id": "AM5TAgdcn7NY",
        "outputId": "a233c1d4-0346-4215-9aa7-94f9e15c472d"
      },
      "source": [
        "A7 = sym.Matrix([[sym.cos(theta7), -sym.sin(theta7), 0, 0], [sym.sin(theta7), sym.cos(theta7), 0, 0], [0, 0, 1, d7], [0, 0, 0, 1]])\n",
        "A7"
      ],
      "execution_count": 224,
      "outputs": [
        {
          "output_type": "execute_result",
          "data": {
            "text/latex": "$\\displaystyle \\left[\\begin{matrix}\\cos{\\left(\\theta_{7} \\right)} & - \\sin{\\left(\\theta_{7} \\right)} & 0 & 0\\\\\\sin{\\left(\\theta_{7} \\right)} & \\cos{\\left(\\theta_{7} \\right)} & 0 & 0\\\\0 & 0 & 1 & 205.5\\\\0 & 0 & 0 & 1\\end{matrix}\\right]$",
            "text/plain": [
              "⎡cos(θ₇)  -sin(θ₇)  0    0  ⎤\n",
              "⎢                           ⎥\n",
              "⎢sin(θ₇)  cos(θ₇)   0    0  ⎥\n",
              "⎢                           ⎥\n",
              "⎢   0        0      1  205.5⎥\n",
              "⎢                           ⎥\n",
              "⎣   0        0      0    1  ⎦"
            ]
          },
          "metadata": {},
          "execution_count": 224
        }
      ]
    },
    {
      "cell_type": "markdown",
      "metadata": {
        "id": "mAb__GG9v58o"
      },
      "source": [
        "**Final Transformation Matrix**"
      ]
    },
    {
      "cell_type": "code",
      "metadata": {
        "colab": {
          "base_uri": "https://localhost:8080/",
          "height": 119
        },
        "id": "oqWzjzMUn9SW",
        "outputId": "ca845a9d-ab95-4011-c7ef-d426d5235a94"
      },
      "source": [
        "A = A1*A2*A3*A4*A5*A6*A7\n",
        "A"
      ],
      "execution_count": 225,
      "outputs": [
        {
          "output_type": "execute_result",
          "data": {
            "text/latex": "$\\displaystyle \\left[\\begin{matrix}\\left(\\left(\\left(\\sin{\\left(\\theta_{2} \\right)} \\sin{\\left(\\theta_{4} \\right)} \\cos{\\left(\\theta_{1} \\right)} + \\cos{\\left(\\theta_{1} \\right)} \\cos{\\left(\\theta_{2} \\right)} \\cos{\\left(\\theta_{4} \\right)}\\right) \\cos{\\left(\\theta_{5} \\right)} - \\sin{\\left(\\theta_{1} \\right)} \\sin{\\left(\\theta_{5} \\right)}\\right) \\cos{\\left(\\theta_{6} \\right)} + \\left(- \\sin{\\left(\\theta_{2} \\right)} \\cos{\\left(\\theta_{1} \\right)} \\cos{\\left(\\theta_{4} \\right)} + \\sin{\\left(\\theta_{4} \\right)} \\cos{\\left(\\theta_{1} \\right)} \\cos{\\left(\\theta_{2} \\right)}\\right) \\sin{\\left(\\theta_{6} \\right)}\\right) \\cos{\\left(\\theta_{7} \\right)} + \\left(- \\left(\\sin{\\left(\\theta_{2} \\right)} \\sin{\\left(\\theta_{4} \\right)} \\cos{\\left(\\theta_{1} \\right)} + \\cos{\\left(\\theta_{1} \\right)} \\cos{\\left(\\theta_{2} \\right)} \\cos{\\left(\\theta_{4} \\right)}\\right) \\sin{\\left(\\theta_{5} \\right)} - \\sin{\\left(\\theta_{1} \\right)} \\cos{\\left(\\theta_{5} \\right)}\\right) \\sin{\\left(\\theta_{7} \\right)} & - \\left(\\left(\\left(\\sin{\\left(\\theta_{2} \\right)} \\sin{\\left(\\theta_{4} \\right)} \\cos{\\left(\\theta_{1} \\right)} + \\cos{\\left(\\theta_{1} \\right)} \\cos{\\left(\\theta_{2} \\right)} \\cos{\\left(\\theta_{4} \\right)}\\right) \\cos{\\left(\\theta_{5} \\right)} - \\sin{\\left(\\theta_{1} \\right)} \\sin{\\left(\\theta_{5} \\right)}\\right) \\cos{\\left(\\theta_{6} \\right)} + \\left(- \\sin{\\left(\\theta_{2} \\right)} \\cos{\\left(\\theta_{1} \\right)} \\cos{\\left(\\theta_{4} \\right)} + \\sin{\\left(\\theta_{4} \\right)} \\cos{\\left(\\theta_{1} \\right)} \\cos{\\left(\\theta_{2} \\right)}\\right) \\sin{\\left(\\theta_{6} \\right)}\\right) \\sin{\\left(\\theta_{7} \\right)} + \\left(- \\left(\\sin{\\left(\\theta_{2} \\right)} \\sin{\\left(\\theta_{4} \\right)} \\cos{\\left(\\theta_{1} \\right)} + \\cos{\\left(\\theta_{1} \\right)} \\cos{\\left(\\theta_{2} \\right)} \\cos{\\left(\\theta_{4} \\right)}\\right) \\sin{\\left(\\theta_{5} \\right)} - \\sin{\\left(\\theta_{1} \\right)} \\cos{\\left(\\theta_{5} \\right)}\\right) \\cos{\\left(\\theta_{7} \\right)} & \\left(\\left(\\sin{\\left(\\theta_{2} \\right)} \\sin{\\left(\\theta_{4} \\right)} \\cos{\\left(\\theta_{1} \\right)} + \\cos{\\left(\\theta_{1} \\right)} \\cos{\\left(\\theta_{2} \\right)} \\cos{\\left(\\theta_{4} \\right)}\\right) \\cos{\\left(\\theta_{5} \\right)} - \\sin{\\left(\\theta_{1} \\right)} \\sin{\\left(\\theta_{5} \\right)}\\right) \\sin{\\left(\\theta_{6} \\right)} - \\left(- \\sin{\\left(\\theta_{2} \\right)} \\cos{\\left(\\theta_{1} \\right)} \\cos{\\left(\\theta_{4} \\right)} + \\sin{\\left(\\theta_{4} \\right)} \\cos{\\left(\\theta_{1} \\right)} \\cos{\\left(\\theta_{2} \\right)}\\right) \\cos{\\left(\\theta_{6} \\right)} & 205.5 \\left(\\left(\\sin{\\left(\\theta_{2} \\right)} \\sin{\\left(\\theta_{4} \\right)} \\cos{\\left(\\theta_{1} \\right)} + \\cos{\\left(\\theta_{1} \\right)} \\cos{\\left(\\theta_{2} \\right)} \\cos{\\left(\\theta_{4} \\right)}\\right) \\cos{\\left(\\theta_{5} \\right)} - \\sin{\\left(\\theta_{1} \\right)} \\sin{\\left(\\theta_{5} \\right)}\\right) \\sin{\\left(\\theta_{6} \\right)} - 205.5 \\left(- \\sin{\\left(\\theta_{2} \\right)} \\cos{\\left(\\theta_{1} \\right)} \\cos{\\left(\\theta_{4} \\right)} + \\sin{\\left(\\theta_{4} \\right)} \\cos{\\left(\\theta_{1} \\right)} \\cos{\\left(\\theta_{2} \\right)}\\right) \\cos{\\left(\\theta_{6} \\right)} + 399.5 \\sin{\\left(\\theta_{2} \\right)} \\cos{\\left(\\theta_{1} \\right)} \\cos{\\left(\\theta_{4} \\right)} + 420 \\sin{\\left(\\theta_{2} \\right)} \\cos{\\left(\\theta_{1} \\right)} - 399.5 \\sin{\\left(\\theta_{4} \\right)} \\cos{\\left(\\theta_{1} \\right)} \\cos{\\left(\\theta_{2} \\right)}\\\\\\left(\\left(\\left(\\sin{\\left(\\theta_{1} \\right)} \\sin{\\left(\\theta_{2} \\right)} \\sin{\\left(\\theta_{4} \\right)} + \\sin{\\left(\\theta_{1} \\right)} \\cos{\\left(\\theta_{2} \\right)} \\cos{\\left(\\theta_{4} \\right)}\\right) \\cos{\\left(\\theta_{5} \\right)} + \\sin{\\left(\\theta_{5} \\right)} \\cos{\\left(\\theta_{1} \\right)}\\right) \\cos{\\left(\\theta_{6} \\right)} + \\left(- \\sin{\\left(\\theta_{1} \\right)} \\sin{\\left(\\theta_{2} \\right)} \\cos{\\left(\\theta_{4} \\right)} + \\sin{\\left(\\theta_{1} \\right)} \\sin{\\left(\\theta_{4} \\right)} \\cos{\\left(\\theta_{2} \\right)}\\right) \\sin{\\left(\\theta_{6} \\right)}\\right) \\cos{\\left(\\theta_{7} \\right)} + \\left(- \\left(\\sin{\\left(\\theta_{1} \\right)} \\sin{\\left(\\theta_{2} \\right)} \\sin{\\left(\\theta_{4} \\right)} + \\sin{\\left(\\theta_{1} \\right)} \\cos{\\left(\\theta_{2} \\right)} \\cos{\\left(\\theta_{4} \\right)}\\right) \\sin{\\left(\\theta_{5} \\right)} + \\cos{\\left(\\theta_{1} \\right)} \\cos{\\left(\\theta_{5} \\right)}\\right) \\sin{\\left(\\theta_{7} \\right)} & - \\left(\\left(\\left(\\sin{\\left(\\theta_{1} \\right)} \\sin{\\left(\\theta_{2} \\right)} \\sin{\\left(\\theta_{4} \\right)} + \\sin{\\left(\\theta_{1} \\right)} \\cos{\\left(\\theta_{2} \\right)} \\cos{\\left(\\theta_{4} \\right)}\\right) \\cos{\\left(\\theta_{5} \\right)} + \\sin{\\left(\\theta_{5} \\right)} \\cos{\\left(\\theta_{1} \\right)}\\right) \\cos{\\left(\\theta_{6} \\right)} + \\left(- \\sin{\\left(\\theta_{1} \\right)} \\sin{\\left(\\theta_{2} \\right)} \\cos{\\left(\\theta_{4} \\right)} + \\sin{\\left(\\theta_{1} \\right)} \\sin{\\left(\\theta_{4} \\right)} \\cos{\\left(\\theta_{2} \\right)}\\right) \\sin{\\left(\\theta_{6} \\right)}\\right) \\sin{\\left(\\theta_{7} \\right)} + \\left(- \\left(\\sin{\\left(\\theta_{1} \\right)} \\sin{\\left(\\theta_{2} \\right)} \\sin{\\left(\\theta_{4} \\right)} + \\sin{\\left(\\theta_{1} \\right)} \\cos{\\left(\\theta_{2} \\right)} \\cos{\\left(\\theta_{4} \\right)}\\right) \\sin{\\left(\\theta_{5} \\right)} + \\cos{\\left(\\theta_{1} \\right)} \\cos{\\left(\\theta_{5} \\right)}\\right) \\cos{\\left(\\theta_{7} \\right)} & \\left(\\left(\\sin{\\left(\\theta_{1} \\right)} \\sin{\\left(\\theta_{2} \\right)} \\sin{\\left(\\theta_{4} \\right)} + \\sin{\\left(\\theta_{1} \\right)} \\cos{\\left(\\theta_{2} \\right)} \\cos{\\left(\\theta_{4} \\right)}\\right) \\cos{\\left(\\theta_{5} \\right)} + \\sin{\\left(\\theta_{5} \\right)} \\cos{\\left(\\theta_{1} \\right)}\\right) \\sin{\\left(\\theta_{6} \\right)} - \\left(- \\sin{\\left(\\theta_{1} \\right)} \\sin{\\left(\\theta_{2} \\right)} \\cos{\\left(\\theta_{4} \\right)} + \\sin{\\left(\\theta_{1} \\right)} \\sin{\\left(\\theta_{4} \\right)} \\cos{\\left(\\theta_{2} \\right)}\\right) \\cos{\\left(\\theta_{6} \\right)} & 205.5 \\left(\\left(\\sin{\\left(\\theta_{1} \\right)} \\sin{\\left(\\theta_{2} \\right)} \\sin{\\left(\\theta_{4} \\right)} + \\sin{\\left(\\theta_{1} \\right)} \\cos{\\left(\\theta_{2} \\right)} \\cos{\\left(\\theta_{4} \\right)}\\right) \\cos{\\left(\\theta_{5} \\right)} + \\sin{\\left(\\theta_{5} \\right)} \\cos{\\left(\\theta_{1} \\right)}\\right) \\sin{\\left(\\theta_{6} \\right)} - 205.5 \\left(- \\sin{\\left(\\theta_{1} \\right)} \\sin{\\left(\\theta_{2} \\right)} \\cos{\\left(\\theta_{4} \\right)} + \\sin{\\left(\\theta_{1} \\right)} \\sin{\\left(\\theta_{4} \\right)} \\cos{\\left(\\theta_{2} \\right)}\\right) \\cos{\\left(\\theta_{6} \\right)} + 399.5 \\sin{\\left(\\theta_{1} \\right)} \\sin{\\left(\\theta_{2} \\right)} \\cos{\\left(\\theta_{4} \\right)} + 420 \\sin{\\left(\\theta_{1} \\right)} \\sin{\\left(\\theta_{2} \\right)} - 399.5 \\sin{\\left(\\theta_{1} \\right)} \\sin{\\left(\\theta_{4} \\right)} \\cos{\\left(\\theta_{2} \\right)}\\\\\\left(\\left(- \\sin{\\left(\\theta_{2} \\right)} \\sin{\\left(\\theta_{4} \\right)} - \\cos{\\left(\\theta_{2} \\right)} \\cos{\\left(\\theta_{4} \\right)}\\right) \\sin{\\left(\\theta_{6} \\right)} + \\left(- \\sin{\\left(\\theta_{2} \\right)} \\cos{\\left(\\theta_{4} \\right)} + \\sin{\\left(\\theta_{4} \\right)} \\cos{\\left(\\theta_{2} \\right)}\\right) \\cos{\\left(\\theta_{5} \\right)} \\cos{\\left(\\theta_{6} \\right)}\\right) \\cos{\\left(\\theta_{7} \\right)} - \\left(- \\sin{\\left(\\theta_{2} \\right)} \\cos{\\left(\\theta_{4} \\right)} + \\sin{\\left(\\theta_{4} \\right)} \\cos{\\left(\\theta_{2} \\right)}\\right) \\sin{\\left(\\theta_{5} \\right)} \\sin{\\left(\\theta_{7} \\right)} & - \\left(\\left(- \\sin{\\left(\\theta_{2} \\right)} \\sin{\\left(\\theta_{4} \\right)} - \\cos{\\left(\\theta_{2} \\right)} \\cos{\\left(\\theta_{4} \\right)}\\right) \\sin{\\left(\\theta_{6} \\right)} + \\left(- \\sin{\\left(\\theta_{2} \\right)} \\cos{\\left(\\theta_{4} \\right)} + \\sin{\\left(\\theta_{4} \\right)} \\cos{\\left(\\theta_{2} \\right)}\\right) \\cos{\\left(\\theta_{5} \\right)} \\cos{\\left(\\theta_{6} \\right)}\\right) \\sin{\\left(\\theta_{7} \\right)} - \\left(- \\sin{\\left(\\theta_{2} \\right)} \\cos{\\left(\\theta_{4} \\right)} + \\sin{\\left(\\theta_{4} \\right)} \\cos{\\left(\\theta_{2} \\right)}\\right) \\sin{\\left(\\theta_{5} \\right)} \\cos{\\left(\\theta_{7} \\right)} & - \\left(- \\sin{\\left(\\theta_{2} \\right)} \\sin{\\left(\\theta_{4} \\right)} - \\cos{\\left(\\theta_{2} \\right)} \\cos{\\left(\\theta_{4} \\right)}\\right) \\cos{\\left(\\theta_{6} \\right)} + \\left(- \\sin{\\left(\\theta_{2} \\right)} \\cos{\\left(\\theta_{4} \\right)} + \\sin{\\left(\\theta_{4} \\right)} \\cos{\\left(\\theta_{2} \\right)}\\right) \\sin{\\left(\\theta_{6} \\right)} \\cos{\\left(\\theta_{5} \\right)} & - 205.5 \\left(- \\sin{\\left(\\theta_{2} \\right)} \\sin{\\left(\\theta_{4} \\right)} - \\cos{\\left(\\theta_{2} \\right)} \\cos{\\left(\\theta_{4} \\right)}\\right) \\cos{\\left(\\theta_{6} \\right)} + 205.5 \\left(- \\sin{\\left(\\theta_{2} \\right)} \\cos{\\left(\\theta_{4} \\right)} + \\sin{\\left(\\theta_{4} \\right)} \\cos{\\left(\\theta_{2} \\right)}\\right) \\sin{\\left(\\theta_{6} \\right)} \\cos{\\left(\\theta_{5} \\right)} + 399.5 \\sin{\\left(\\theta_{2} \\right)} \\sin{\\left(\\theta_{4} \\right)} + 399.5 \\cos{\\left(\\theta_{2} \\right)} \\cos{\\left(\\theta_{4} \\right)} + 420 \\cos{\\left(\\theta_{2} \\right)} + 360\\\\0 & 0 & 0 & 1\\end{matrix}\\right]$",
            "text/plain": [
              "⎡(((sin(θ₂)⋅sin(θ₄)⋅cos(\\theta₁) + cos(\\theta₁)⋅cos(θ₂)⋅cos(θ₄))⋅cos(θ₅) - sin\n",
              "⎢                                                                             \n",
              "⎢(((sin(\\theta₁)⋅sin(θ₂)⋅sin(θ₄) + sin(\\theta₁)⋅cos(θ₂)⋅cos(θ₄))⋅cos(θ₅) + sin\n",
              "⎢                                                                             \n",
              "⎢                                                               ((-sin(θ₂)⋅sin\n",
              "⎢                                                                             \n",
              "⎣                                                                             \n",
              "\n",
              "(\\theta₁)⋅sin(θ₅))⋅cos(θ₆) + (-sin(θ₂)⋅cos(\\theta₁)⋅cos(θ₄) + sin(θ₄)⋅cos(\\the\n",
              "                                                                              \n",
              "(θ₅)⋅cos(\\theta₁))⋅cos(θ₆) + (-sin(\\theta₁)⋅sin(θ₂)⋅cos(θ₄) + sin(\\theta₁)⋅sin\n",
              "                                                                              \n",
              "(θ₄) - cos(θ₂)⋅cos(θ₄))⋅sin(θ₆) + (-sin(θ₂)⋅cos(θ₄) + sin(θ₄)⋅cos(θ₂))⋅cos(θ₅)\n",
              "                                                                              \n",
              "                                                                    0         \n",
              "\n",
              "ta₁)⋅cos(θ₂))⋅sin(θ₆))⋅cos(θ₇) + (-(sin(θ₂)⋅sin(θ₄)⋅cos(\\theta₁) + cos(\\theta₁\n",
              "                                                                              \n",
              "(θ₄)⋅cos(θ₂))⋅sin(θ₆))⋅cos(θ₇) + (-(sin(\\theta₁)⋅sin(θ₂)⋅sin(θ₄) + sin(\\theta₁\n",
              "                                                                              \n",
              "⋅cos(θ₆))⋅cos(θ₇) - (-sin(θ₂)⋅cos(θ₄) + sin(θ₄)⋅cos(θ₂))⋅sin(θ₅)⋅sin(θ₇)      \n",
              "                                                                              \n",
              "                                                                              \n",
              "\n",
              ")⋅cos(θ₂)⋅cos(θ₄))⋅sin(θ₅) - sin(\\theta₁)⋅cos(θ₅))⋅sin(θ₇)  -(((sin(θ₂)⋅sin(θ₄\n",
              "                                                                              \n",
              ")⋅cos(θ₂)⋅cos(θ₄))⋅sin(θ₅) + cos(\\theta₁)⋅cos(θ₅))⋅sin(θ₇)  -(((sin(\\theta₁)⋅s\n",
              "                                                                              \n",
              "                                                                              \n",
              "                                                                              \n",
              "                                                                              \n",
              "\n",
              ")⋅cos(\\theta₁) + cos(\\theta₁)⋅cos(θ₂)⋅cos(θ₄))⋅cos(θ₅) - sin(\\theta₁)⋅sin(θ₅))\n",
              "                                                                              \n",
              "in(θ₂)⋅sin(θ₄) + sin(\\theta₁)⋅cos(θ₂)⋅cos(θ₄))⋅cos(θ₅) + sin(θ₅)⋅cos(\\theta₁))\n",
              "                                                                              \n",
              "                                             -((-sin(θ₂)⋅sin(θ₄) - cos(θ₂)⋅cos\n",
              "                                                                              \n",
              "                                                                              \n",
              "\n",
              "⋅cos(θ₆) + (-sin(θ₂)⋅cos(\\theta₁)⋅cos(θ₄) + sin(θ₄)⋅cos(\\theta₁)⋅cos(θ₂))⋅sin(\n",
              "                                                                              \n",
              "⋅cos(θ₆) + (-sin(\\theta₁)⋅sin(θ₂)⋅cos(θ₄) + sin(\\theta₁)⋅sin(θ₄)⋅cos(θ₂))⋅sin(\n",
              "                                                                              \n",
              "(θ₄))⋅sin(θ₆) + (-sin(θ₂)⋅cos(θ₄) + sin(θ₄)⋅cos(θ₂))⋅cos(θ₅)⋅cos(θ₆))⋅sin(θ₇) \n",
              "                                                                              \n",
              "                                                 0                            \n",
              "\n",
              "θ₆))⋅sin(θ₇) + (-(sin(θ₂)⋅sin(θ₄)⋅cos(\\theta₁) + cos(\\theta₁)⋅cos(θ₂)⋅cos(θ₄))\n",
              "                                                                              \n",
              "θ₆))⋅sin(θ₇) + (-(sin(\\theta₁)⋅sin(θ₂)⋅sin(θ₄) + sin(\\theta₁)⋅cos(θ₂)⋅cos(θ₄))\n",
              "                                                                              \n",
              "- (-sin(θ₂)⋅cos(θ₄) + sin(θ₄)⋅cos(θ₂))⋅sin(θ₅)⋅cos(θ₇)                        \n",
              "                                                                              \n",
              "                                                                              \n",
              "\n",
              "⋅sin(θ₅) - sin(\\theta₁)⋅cos(θ₅))⋅cos(θ₇)  ((sin(θ₂)⋅sin(θ₄)⋅cos(\\theta₁) + cos\n",
              "                                                                              \n",
              "⋅sin(θ₅) + cos(\\theta₁)⋅cos(θ₅))⋅cos(θ₇)  ((sin(\\theta₁)⋅sin(θ₂)⋅sin(θ₄) + sin\n",
              "                                                                              \n",
              "                                                                              \n",
              "                                                                              \n",
              "                                                                              \n",
              "\n",
              "(\\theta₁)⋅cos(θ₂)⋅cos(θ₄))⋅cos(θ₅) - sin(\\theta₁)⋅sin(θ₅))⋅sin(θ₆) - (-sin(θ₂)\n",
              "                                                                              \n",
              "(\\theta₁)⋅cos(θ₂)⋅cos(θ₄))⋅cos(θ₅) + sin(θ₅)⋅cos(\\theta₁))⋅sin(θ₆) - (-sin(\\th\n",
              "                                                                              \n",
              " -(-sin(θ₂)⋅sin(θ₄) - cos(θ₂)⋅cos(θ₄))⋅cos(θ₆) + (-sin(θ₂)⋅cos(θ₄) + sin(θ₄)⋅c\n",
              "                                                                              \n",
              "                                                   0                          \n",
              "\n",
              "⋅cos(\\theta₁)⋅cos(θ₄) + sin(θ₄)⋅cos(\\theta₁)⋅cos(θ₂))⋅cos(θ₆)  205.5⋅((sin(θ₂)\n",
              "                                                                              \n",
              "eta₁)⋅sin(θ₂)⋅cos(θ₄) + sin(\\theta₁)⋅sin(θ₄)⋅cos(θ₂))⋅cos(θ₆)  205.5⋅((sin(\\th\n",
              "                                                                              \n",
              "os(θ₂))⋅sin(θ₆)⋅cos(θ₅)                                                       \n",
              "                                                                              \n",
              "                                                                              \n",
              "\n",
              "⋅sin(θ₄)⋅cos(\\theta₁) + cos(\\theta₁)⋅cos(θ₂)⋅cos(θ₄))⋅cos(θ₅) - sin(\\theta₁)⋅s\n",
              "                                                                              \n",
              "eta₁)⋅sin(θ₂)⋅sin(θ₄) + sin(\\theta₁)⋅cos(θ₂)⋅cos(θ₄))⋅cos(θ₅) + sin(θ₅)⋅cos(\\t\n",
              "                                                                              \n",
              "                                       -205.5⋅(-sin(θ₂)⋅sin(θ₄) - cos(θ₂)⋅cos(\n",
              "                                                                              \n",
              "                                                                              \n",
              "\n",
              "in(θ₅))⋅sin(θ₆) - 205.5⋅(-sin(θ₂)⋅cos(\\theta₁)⋅cos(θ₄) + sin(θ₄)⋅cos(\\theta₁)⋅\n",
              "                                                                              \n",
              "heta₁))⋅sin(θ₆) - 205.5⋅(-sin(\\theta₁)⋅sin(θ₂)⋅cos(θ₄) + sin(\\theta₁)⋅sin(θ₄)⋅\n",
              "                                                                              \n",
              "θ₄))⋅cos(θ₆) + 205.5⋅(-sin(θ₂)⋅cos(θ₄) + sin(θ₄)⋅cos(θ₂))⋅sin(θ₆)⋅cos(θ₅) + 39\n",
              "                                                                              \n",
              "                                                  1                           \n",
              "\n",
              "cos(θ₂))⋅cos(θ₆) + 399.5⋅sin(θ₂)⋅cos(\\theta₁)⋅cos(θ₄) + 420⋅sin(θ₂)⋅cos(\\theta\n",
              "                                                                              \n",
              "cos(θ₂))⋅cos(θ₆) + 399.5⋅sin(\\theta₁)⋅sin(θ₂)⋅cos(θ₄) + 420⋅sin(\\theta₁)⋅sin(θ\n",
              "                                                                              \n",
              "9.5⋅sin(θ₂)⋅sin(θ₄) + 399.5⋅cos(θ₂)⋅cos(θ₄) + 420⋅cos(θ₂) + 360               \n",
              "                                                                              \n",
              "                                                                              \n",
              "\n",
              "₁) - 399.5⋅sin(θ₄)⋅cos(\\theta₁)⋅cos(θ₂)⎤\n",
              "                                       ⎥\n",
              "₂) - 399.5⋅sin(\\theta₁)⋅sin(θ₄)⋅cos(θ₂)⎥\n",
              "                                       ⎥\n",
              "                                       ⎥\n",
              "                                       ⎥\n",
              "                                       ⎦"
            ]
          },
          "metadata": {},
          "execution_count": 225
        }
      ]
    },
    {
      "cell_type": "code",
      "metadata": {
        "id": "2Ka1JGrh67KF"
      },
      "source": [
        ""
      ],
      "execution_count": 225,
      "outputs": []
    },
    {
      "cell_type": "markdown",
      "metadata": {
        "id": "_xPp7dxi6-Mk"
      },
      "source": [
        "##**Calculating Z and O**"
      ]
    },
    {
      "cell_type": "markdown",
      "metadata": {
        "id": "baZh_PmQyYyv"
      },
      "source": [
        "***Calculting Z***"
      ]
    },
    {
      "cell_type": "code",
      "metadata": {
        "id": "qNVQcy-lOZ_I"
      },
      "source": [
        "A12 = A1*A2\n",
        "A24 = A12*A3*A4\n",
        "A45 = A24*A5\n",
        "A56 = A45*A6\n",
        "A67 = A56*A7\n"
      ],
      "execution_count": 226,
      "outputs": []
    },
    {
      "cell_type": "code",
      "metadata": {
        "colab": {
          "base_uri": "https://localhost:8080/",
          "height": 79
        },
        "id": "3l1oR_upwVMs",
        "outputId": "fe22c42d-a781-452a-abe6-6666792f1af7"
      },
      "source": [
        "Z0 = sym.Matrix([0,0,1])\n",
        "Z1 = A1[:3,2]\n",
        "Z2 = A12[:3,2]\n",
        "Z4 = A24[:3,2]\n",
        "Z5 = A45[:3,2]\n",
        "Z6 = A56[:3,2]\n",
        "Z7 = A67[:3,2]\n",
        "sym.simplify(Z7)"
      ],
      "execution_count": 227,
      "outputs": [
        {
          "output_type": "execute_result",
          "data": {
            "text/latex": "$\\displaystyle \\left[\\begin{matrix}\\left(- \\sin{\\left(\\theta_{1} \\right)} \\sin{\\left(\\theta_{5} \\right)} + \\cos{\\left(\\theta_{1} \\right)} \\cos{\\left(\\theta_{5} \\right)} \\cos{\\left(\\theta_{2} - \\theta_{4} \\right)}\\right) \\sin{\\left(\\theta_{6} \\right)} + \\sin{\\left(\\theta_{2} - \\theta_{4} \\right)} \\cos{\\left(\\theta_{1} \\right)} \\cos{\\left(\\theta_{6} \\right)}\\\\\\left(\\sin{\\left(\\theta_{1} \\right)} \\cos{\\left(\\theta_{5} \\right)} \\cos{\\left(\\theta_{2} - \\theta_{4} \\right)} + \\sin{\\left(\\theta_{5} \\right)} \\cos{\\left(\\theta_{1} \\right)}\\right) \\sin{\\left(\\theta_{6} \\right)} + \\sin{\\left(\\theta_{1} \\right)} \\sin{\\left(\\theta_{2} - \\theta_{4} \\right)} \\cos{\\left(\\theta_{6} \\right)}\\\\- \\sin{\\left(\\theta_{6} \\right)} \\sin{\\left(\\theta_{2} - \\theta_{4} \\right)} \\cos{\\left(\\theta_{5} \\right)} + \\cos{\\left(\\theta_{6} \\right)} \\cos{\\left(\\theta_{2} - \\theta_{4} \\right)}\\end{matrix}\\right]$",
            "text/plain": [
              "⎡(-sin(\\theta₁)⋅sin(θ₅) + cos(\\theta₁)⋅cos(θ₅)⋅cos(θ₂ - θ₄))⋅sin(θ₆) + sin(θ₂ \n",
              "⎢                                                                             \n",
              "⎢(sin(\\theta₁)⋅cos(θ₅)⋅cos(θ₂ - θ₄) + sin(θ₅)⋅cos(\\theta₁))⋅sin(θ₆) + sin(\\the\n",
              "⎢                                                                             \n",
              "⎣                         -sin(θ₆)⋅sin(θ₂ - θ₄)⋅cos(θ₅) + cos(θ₆)⋅cos(θ₂ - θ₄)\n",
              "\n",
              "- θ₄)⋅cos(\\theta₁)⋅cos(θ₆)⎤\n",
              "                          ⎥\n",
              "ta₁)⋅sin(θ₂ - θ₄)⋅cos(θ₆) ⎥\n",
              "                          ⎥\n",
              "                          ⎦"
            ]
          },
          "metadata": {},
          "execution_count": 227
        }
      ]
    },
    {
      "cell_type": "markdown",
      "metadata": {
        "id": "yomTKRrSyrBr"
      },
      "source": [
        "**Calculating O**"
      ]
    },
    {
      "cell_type": "code",
      "metadata": {
        "id": "YqQQ29TiwlIJ"
      },
      "source": [
        "O0 = sym.Matrix([0, 0, 0])\n",
        "O1 = A1[:3,3]\n",
        "O2 = A12[:3,3]\n",
        "O4 = A24[:3,3]\n",
        "O5 = A45[:3,3]\n",
        "O6 = A56[:3,3]\n",
        "O7 = A67[:3,3]\n"
      ],
      "execution_count": 228,
      "outputs": []
    },
    {
      "cell_type": "code",
      "metadata": {
        "id": "3lZXLA4N6-Mv"
      },
      "source": [
        "x_pos = A[0,3]; y_pos = A[1,3]; z_pos = A[2,3];"
      ],
      "execution_count": 229,
      "outputs": []
    },
    {
      "cell_type": "markdown",
      "metadata": {
        "id": "ib79cR-Hsi31"
      },
      "source": [
        "Using the **2nd Method (Differentiation Method)** to obtain Jacobian"
      ]
    },
    {
      "cell_type": "code",
      "metadata": {
        "id": "84VWa6KK6-Mw"
      },
      "source": [
        "c11 = sym.diff(x_pos, theta1)\n",
        "c12 = sym.diff(x_pos, theta2)\n",
        "c13 = sym.diff(x_pos, theta4)\n",
        "c14 = sym.diff(x_pos, theta5)\n",
        "c15 = sym.diff(x_pos, theta6)\n",
        "c16 = sym.diff(x_pos, theta7)\n",
        "\n",
        "c21 = sym.diff(y_pos, theta1)\n",
        "c22 = sym.diff(y_pos, theta2)\n",
        "c23 = sym.diff(y_pos, theta4)\n",
        "c24 = sym.diff(y_pos, theta5)\n",
        "c25 = sym.diff(y_pos, theta6)\n",
        "c26 = sym.diff(y_pos, theta7)\n",
        "\n",
        "c31 = sym.diff(z_pos, theta1)\n",
        "c32 = sym.diff(z_pos, theta2)\n",
        "c33 = sym.diff(z_pos, theta4)\n",
        "c34 = sym.diff(z_pos, theta5)\n",
        "c35 = sym.diff(z_pos, theta6)\n",
        "c36 = sym.diff(z_pos, theta7)"
      ],
      "execution_count": 230,
      "outputs": []
    },
    {
      "cell_type": "code",
      "metadata": {
        "id": "NjJcHdFb6-Mw"
      },
      "source": [
        "J = sym.Matrix([[c11, c12, c13, c14, c15, c16], [c21, c22, c23, c24, c25, c26],[c31, c32, c33, c34, c35, c36],[Z1,Z2,Z4,Z5,Z6,Z7]]) \n"
      ],
      "execution_count": 231,
      "outputs": []
    },
    {
      "cell_type": "markdown",
      "metadata": {
        "id": "aWDRf4gWvHDx"
      },
      "source": [
        "You can use the 1st Method aswell to Find the Jacobian"
      ]
    },
    {
      "cell_type": "code",
      "metadata": {
        "colab": {
          "base_uri": "https://localhost:8080/",
          "height": 160
        },
        "id": "P6tMvshUXCTH",
        "outputId": "4872b1c8-478c-47c2-d581-04323d738999"
      },
      "source": [
        "P1 = -m*g*(A1[2,3])/2\n",
        "P2 = -2*m*g*(A12[2,3]+A1[2,3])/2\n",
        "P3 = -3*m*g*(A24[2,3]+A12[2,3])/2\n",
        "P4 = -4*m*g*(A45[2,3]+A24[2,3])/2\n",
        "P5 = -5*m*g*(A56[2,3]+A45[2,3])/2\n",
        "P6 = -6*m*g*(A67[2,3]+A56[2,3])/2\n",
        "\n",
        "PE_Vec = sym.Matrix([[P1], [P2], [P3], [P4], [P5], [P6]])\n",
        "PE_Vec\n"
      ],
      "execution_count": 232,
      "outputs": [
        {
          "output_type": "execute_result",
          "data": {
            "text/latex": "$\\displaystyle \\left[\\begin{matrix}7063.2\\\\28252.8\\\\24721.2 \\cos{\\left(\\theta_{2} \\right)} + 42379.2\\\\31352.76 \\sin{\\left(\\theta_{2} \\right)} \\sin{\\left(\\theta_{4} \\right)} + 31352.76 \\cos{\\left(\\theta_{2} \\right)} \\cos{\\left(\\theta_{4} \\right)} + 65923.2 \\cos{\\left(\\theta_{2} \\right)} + 56505.6\\\\78381.9 \\sin{\\left(\\theta_{2} \\right)} \\sin{\\left(\\theta_{4} \\right)} + 78381.9 \\cos{\\left(\\theta_{2} \\right)} \\cos{\\left(\\theta_{4} \\right)} + 82404.0 \\cos{\\left(\\theta_{2} \\right)} + 70632.0\\\\- 24191.46 \\left(- \\sin{\\left(\\theta_{2} \\right)} \\sin{\\left(\\theta_{4} \\right)} - \\cos{\\left(\\theta_{2} \\right)} \\cos{\\left(\\theta_{4} \\right)}\\right) \\cos{\\left(\\theta_{6} \\right)} + 24191.46 \\left(- \\sin{\\left(\\theta_{2} \\right)} \\cos{\\left(\\theta_{4} \\right)} + \\sin{\\left(\\theta_{4} \\right)} \\cos{\\left(\\theta_{2} \\right)}\\right) \\sin{\\left(\\theta_{6} \\right)} \\cos{\\left(\\theta_{5} \\right)} + 94058.28 \\sin{\\left(\\theta_{2} \\right)} \\sin{\\left(\\theta_{4} \\right)} + 94058.28 \\cos{\\left(\\theta_{2} \\right)} \\cos{\\left(\\theta_{4} \\right)} + 98884.8 \\cos{\\left(\\theta_{2} \\right)} + 84758.4\\end{matrix}\\right]$",
            "text/plain": [
              "⎡                                                                             \n",
              "⎢                                                                             \n",
              "⎢                                                                             \n",
              "⎢                                                                             \n",
              "⎢                                                                             \n",
              "⎢                                                                             \n",
              "⎢                                                            31352.76⋅sin(θ₂)⋅\n",
              "⎢                                                                             \n",
              "⎢                                                             78381.9⋅sin(θ₂)⋅\n",
              "⎢                                                                             \n",
              "⎣-24191.46⋅(-sin(θ₂)⋅sin(θ₄) - cos(θ₂)⋅cos(θ₄))⋅cos(θ₆) + 24191.46⋅(-sin(θ₂)⋅c\n",
              "\n",
              "                    7063.2                                                    \n",
              "                                                                              \n",
              "                   28252.8                                                    \n",
              "                                                                              \n",
              "          24721.2⋅cos(θ₂) + 42379.2                                           \n",
              "                                                                              \n",
              "sin(θ₄) + 31352.76⋅cos(θ₂)⋅cos(θ₄) + 65923.2⋅cos(θ₂) + 56505.6                \n",
              "                                                                              \n",
              "sin(θ₄) + 78381.9⋅cos(θ₂)⋅cos(θ₄) + 82404.0⋅cos(θ₂) + 70632.0                 \n",
              "                                                                              \n",
              "os(θ₄) + sin(θ₄)⋅cos(θ₂))⋅sin(θ₆)⋅cos(θ₅) + 94058.28⋅sin(θ₂)⋅sin(θ₄) + 94058.2\n",
              "\n",
              "                                             ⎤\n",
              "                                             ⎥\n",
              "                                             ⎥\n",
              "                                             ⎥\n",
              "                                             ⎥\n",
              "                                             ⎥\n",
              "                                             ⎥\n",
              "                                             ⎥\n",
              "                                             ⎥\n",
              "                                             ⎥\n",
              "8⋅cos(θ₂)⋅cos(θ₄) + 98884.8⋅cos(θ₂) + 84758.4⎦"
            ]
          },
          "metadata": {},
          "execution_count": 232
        }
      ]
    },
    {
      "cell_type": "code",
      "metadata": {
        "colab": {
          "base_uri": "https://localhost:8080/",
          "height": 160
        },
        "id": "_VGHvjYj_bH2",
        "outputId": "91066a41-369e-4dc0-e54c-5f94dc4a0e3d"
      },
      "source": [
        "Wrench = sym.Matrix([[0], [-5], [0], [0], [0], [0]])\n",
        "PE_Vec-J.T * Wrench"
      ],
      "execution_count": 233,
      "outputs": [
        {
          "output_type": "execute_result",
          "data": {
            "text/latex": "$\\displaystyle \\left[\\begin{matrix}5 \\left(205.5 \\left(\\sin{\\left(\\theta_{2} \\right)} \\sin{\\left(\\theta_{4} \\right)} \\cos{\\left(\\theta_{1} \\right)} + \\cos{\\left(\\theta_{1} \\right)} \\cos{\\left(\\theta_{2} \\right)} \\cos{\\left(\\theta_{4} \\right)}\\right) \\cos{\\left(\\theta_{5} \\right)} - 205.5 \\sin{\\left(\\theta_{1} \\right)} \\sin{\\left(\\theta_{5} \\right)}\\right) \\sin{\\left(\\theta_{6} \\right)} + 5 \\left(205.5 \\sin{\\left(\\theta_{2} \\right)} \\cos{\\left(\\theta_{1} \\right)} \\cos{\\left(\\theta_{4} \\right)} - 205.5 \\sin{\\left(\\theta_{4} \\right)} \\cos{\\left(\\theta_{1} \\right)} \\cos{\\left(\\theta_{2} \\right)}\\right) \\cos{\\left(\\theta_{6} \\right)} + 1997.5 \\sin{\\left(\\theta_{2} \\right)} \\cos{\\left(\\theta_{1} \\right)} \\cos{\\left(\\theta_{4} \\right)} + 2100 \\sin{\\left(\\theta_{2} \\right)} \\cos{\\left(\\theta_{1} \\right)} - 1997.5 \\sin{\\left(\\theta_{4} \\right)} \\cos{\\left(\\theta_{1} \\right)} \\cos{\\left(\\theta_{2} \\right)} + 7063.2\\\\5 \\left(205.5 \\sin{\\left(\\theta_{1} \\right)} \\sin{\\left(\\theta_{2} \\right)} \\sin{\\left(\\theta_{4} \\right)} + 205.5 \\sin{\\left(\\theta_{1} \\right)} \\cos{\\left(\\theta_{2} \\right)} \\cos{\\left(\\theta_{4} \\right)}\\right) \\cos{\\left(\\theta_{6} \\right)} + 1027.5 \\left(- \\sin{\\left(\\theta_{1} \\right)} \\sin{\\left(\\theta_{2} \\right)} \\cos{\\left(\\theta_{4} \\right)} + \\sin{\\left(\\theta_{1} \\right)} \\sin{\\left(\\theta_{4} \\right)} \\cos{\\left(\\theta_{2} \\right)}\\right) \\sin{\\left(\\theta_{6} \\right)} \\cos{\\left(\\theta_{5} \\right)} + 1997.5 \\sin{\\left(\\theta_{1} \\right)} \\sin{\\left(\\theta_{2} \\right)} \\sin{\\left(\\theta_{4} \\right)} + 1997.5 \\sin{\\left(\\theta_{1} \\right)} \\cos{\\left(\\theta_{2} \\right)} \\cos{\\left(\\theta_{4} \\right)} + 2100 \\sin{\\left(\\theta_{1} \\right)} \\cos{\\left(\\theta_{2} \\right)} + 28252.8\\\\5 \\left(- 205.5 \\sin{\\left(\\theta_{1} \\right)} \\sin{\\left(\\theta_{2} \\right)} \\sin{\\left(\\theta_{4} \\right)} - 205.5 \\sin{\\left(\\theta_{1} \\right)} \\cos{\\left(\\theta_{2} \\right)} \\cos{\\left(\\theta_{4} \\right)}\\right) \\cos{\\left(\\theta_{6} \\right)} + 1027.5 \\left(\\sin{\\left(\\theta_{1} \\right)} \\sin{\\left(\\theta_{2} \\right)} \\cos{\\left(\\theta_{4} \\right)} - \\sin{\\left(\\theta_{1} \\right)} \\sin{\\left(\\theta_{4} \\right)} \\cos{\\left(\\theta_{2} \\right)}\\right) \\sin{\\left(\\theta_{6} \\right)} \\cos{\\left(\\theta_{5} \\right)} - 1997.5 \\sin{\\left(\\theta_{1} \\right)} \\sin{\\left(\\theta_{2} \\right)} \\sin{\\left(\\theta_{4} \\right)} - 1997.5 \\sin{\\left(\\theta_{1} \\right)} \\cos{\\left(\\theta_{2} \\right)} \\cos{\\left(\\theta_{4} \\right)} + 24721.2 \\cos{\\left(\\theta_{2} \\right)} + 42379.2\\\\5 \\left(- 205.5 \\left(\\sin{\\left(\\theta_{1} \\right)} \\sin{\\left(\\theta_{2} \\right)} \\sin{\\left(\\theta_{4} \\right)} + \\sin{\\left(\\theta_{1} \\right)} \\cos{\\left(\\theta_{2} \\right)} \\cos{\\left(\\theta_{4} \\right)}\\right) \\sin{\\left(\\theta_{5} \\right)} + 205.5 \\cos{\\left(\\theta_{1} \\right)} \\cos{\\left(\\theta_{5} \\right)}\\right) \\sin{\\left(\\theta_{6} \\right)} + 31352.76 \\sin{\\left(\\theta_{2} \\right)} \\sin{\\left(\\theta_{4} \\right)} + 31352.76 \\cos{\\left(\\theta_{2} \\right)} \\cos{\\left(\\theta_{4} \\right)} + 65923.2 \\cos{\\left(\\theta_{2} \\right)} + 56505.6\\\\5 \\left(205.5 \\left(\\sin{\\left(\\theta_{1} \\right)} \\sin{\\left(\\theta_{2} \\right)} \\sin{\\left(\\theta_{4} \\right)} + \\sin{\\left(\\theta_{1} \\right)} \\cos{\\left(\\theta_{2} \\right)} \\cos{\\left(\\theta_{4} \\right)}\\right) \\cos{\\left(\\theta_{5} \\right)} + 205.5 \\sin{\\left(\\theta_{5} \\right)} \\cos{\\left(\\theta_{1} \\right)}\\right) \\cos{\\left(\\theta_{6} \\right)} - 5 \\left(205.5 \\sin{\\left(\\theta_{1} \\right)} \\sin{\\left(\\theta_{2} \\right)} \\cos{\\left(\\theta_{4} \\right)} - 205.5 \\sin{\\left(\\theta_{1} \\right)} \\sin{\\left(\\theta_{4} \\right)} \\cos{\\left(\\theta_{2} \\right)}\\right) \\sin{\\left(\\theta_{6} \\right)} + 78381.9 \\sin{\\left(\\theta_{2} \\right)} \\sin{\\left(\\theta_{4} \\right)} + 78381.9 \\cos{\\left(\\theta_{2} \\right)} \\cos{\\left(\\theta_{4} \\right)} + 82404.0 \\cos{\\left(\\theta_{2} \\right)} + 70632.0\\\\- 24191.46 \\left(- \\sin{\\left(\\theta_{2} \\right)} \\sin{\\left(\\theta_{4} \\right)} - \\cos{\\left(\\theta_{2} \\right)} \\cos{\\left(\\theta_{4} \\right)}\\right) \\cos{\\left(\\theta_{6} \\right)} + 24191.46 \\left(- \\sin{\\left(\\theta_{2} \\right)} \\cos{\\left(\\theta_{4} \\right)} + \\sin{\\left(\\theta_{4} \\right)} \\cos{\\left(\\theta_{2} \\right)}\\right) \\sin{\\left(\\theta_{6} \\right)} \\cos{\\left(\\theta_{5} \\right)} + 94058.28 \\sin{\\left(\\theta_{2} \\right)} \\sin{\\left(\\theta_{4} \\right)} + 94058.28 \\cos{\\left(\\theta_{2} \\right)} \\cos{\\left(\\theta_{4} \\right)} + 98884.8 \\cos{\\left(\\theta_{2} \\right)} + 84758.4\\end{matrix}\\right]$",
            "text/plain": [
              "⎡5⋅(205.5⋅(sin(θ₂)⋅sin(θ₄)⋅cos(\\theta₁) + cos(\\theta₁)⋅cos(θ₂)⋅cos(θ₄))⋅cos(θ₅\n",
              "⎢                                                                             \n",
              "⎢               5⋅(205.5⋅sin(\\theta₁)⋅sin(θ₂)⋅sin(θ₄) + 205.5⋅sin(\\theta₁)⋅cos\n",
              "⎢                                                                             \n",
              "⎢                    5⋅(-205.5⋅sin(\\theta₁)⋅sin(θ₂)⋅sin(θ₄) - 205.5⋅sin(\\theta\n",
              "⎢                                                                             \n",
              "⎢                                                          5⋅(-205.5⋅(sin(\\the\n",
              "⎢                                                                             \n",
              "⎢                5⋅(205.5⋅(sin(\\theta₁)⋅sin(θ₂)⋅sin(θ₄) + sin(\\theta₁)⋅cos(θ₂)\n",
              "⎢                                                                             \n",
              "⎣                                                         -24191.46⋅(-sin(θ₂)⋅\n",
              "\n",
              ") - 205.5⋅sin(\\theta₁)⋅sin(θ₅))⋅sin(θ₆) + 5⋅(205.5⋅sin(θ₂)⋅cos(\\theta₁)⋅cos(θ₄\n",
              "                                                                              \n",
              "(θ₂)⋅cos(θ₄))⋅cos(θ₆) + 1027.5⋅(-sin(\\theta₁)⋅sin(θ₂)⋅cos(θ₄) + sin(\\theta₁)⋅s\n",
              "                                                                              \n",
              "₁)⋅cos(θ₂)⋅cos(θ₄))⋅cos(θ₆) + 1027.5⋅(sin(\\theta₁)⋅sin(θ₂)⋅cos(θ₄) - sin(\\thet\n",
              "                                                                              \n",
              "ta₁)⋅sin(θ₂)⋅sin(θ₄) + sin(\\theta₁)⋅cos(θ₂)⋅cos(θ₄))⋅sin(θ₅) + 205.5⋅cos(\\thet\n",
              "                                                                              \n",
              "⋅cos(θ₄))⋅cos(θ₅) + 205.5⋅sin(θ₅)⋅cos(\\theta₁))⋅cos(θ₆) - 5⋅(205.5⋅sin(\\theta₁\n",
              "                                                                              \n",
              "sin(θ₄) - cos(θ₂)⋅cos(θ₄))⋅cos(θ₆) + 24191.46⋅(-sin(θ₂)⋅cos(θ₄) + sin(θ₄)⋅cos(\n",
              "\n",
              ") - 205.5⋅sin(θ₄)⋅cos(\\theta₁)⋅cos(θ₂))⋅cos(θ₆) + 1997.5⋅sin(θ₂)⋅cos(\\theta₁)⋅\n",
              "                                                                              \n",
              "in(θ₄)⋅cos(θ₂))⋅sin(θ₆)⋅cos(θ₅) + 1997.5⋅sin(\\theta₁)⋅sin(θ₂)⋅sin(θ₄) + 1997.5\n",
              "                                                                              \n",
              "a₁)⋅sin(θ₄)⋅cos(θ₂))⋅sin(θ₆)⋅cos(θ₅) - 1997.5⋅sin(\\theta₁)⋅sin(θ₂)⋅sin(θ₄) - 1\n",
              "                                                                              \n",
              "a₁)⋅cos(θ₅))⋅sin(θ₆) + 31352.76⋅sin(θ₂)⋅sin(θ₄) + 31352.76⋅cos(θ₂)⋅cos(θ₄) + 6\n",
              "                                                                              \n",
              ")⋅sin(θ₂)⋅cos(θ₄) - 205.5⋅sin(\\theta₁)⋅sin(θ₄)⋅cos(θ₂))⋅sin(θ₆) + 78381.9⋅sin(\n",
              "                                                                              \n",
              "θ₂))⋅sin(θ₆)⋅cos(θ₅) + 94058.28⋅sin(θ₂)⋅sin(θ₄) + 94058.28⋅cos(θ₂)⋅cos(θ₄) + 9\n",
              "\n",
              "cos(θ₄) + 2100⋅sin(θ₂)⋅cos(\\theta₁) - 1997.5⋅sin(θ₄)⋅cos(\\theta₁)⋅cos(θ₂) + 70\n",
              "                                                                              \n",
              "⋅sin(\\theta₁)⋅cos(θ₂)⋅cos(θ₄) + 2100⋅sin(\\theta₁)⋅cos(θ₂) + 28252.8           \n",
              "                                                                              \n",
              "997.5⋅sin(\\theta₁)⋅cos(θ₂)⋅cos(θ₄) + 24721.2⋅cos(θ₂) + 42379.2                \n",
              "                                                                              \n",
              "5923.2⋅cos(θ₂) + 56505.6                                                      \n",
              "                                                                              \n",
              "θ₂)⋅sin(θ₄) + 78381.9⋅cos(θ₂)⋅cos(θ₄) + 82404.0⋅cos(θ₂) + 70632.0             \n",
              "                                                                              \n",
              "8884.8⋅cos(θ₂) + 84758.4                                                      \n",
              "\n",
              "63.2⎤\n",
              "    ⎥\n",
              "    ⎥\n",
              "    ⎥\n",
              "    ⎥\n",
              "    ⎥\n",
              "    ⎥\n",
              "    ⎥\n",
              "    ⎥\n",
              "    ⎥\n",
              "    ⎦"
            ]
          },
          "metadata": {},
          "execution_count": 233
        }
      ]
    },
    {
      "cell_type": "markdown",
      "metadata": {
        "id": "MIIfElGiy6bi"
      },
      "source": [
        "##***Inverse Dynamics***\n",
        "\n"
      ]
    },
    {
      "cell_type": "code",
      "metadata": {
        "id": "L1gB2IKq9nRd"
      },
      "source": [
        "q = sym.Matrix([0,30,-45,0,75,0])*(pi/180)\n",
        "N = 200\n",
        "theta = linspace(float(pi/2), float((5*pi)/2),num=N)\n"
      ],
      "execution_count": 234,
      "outputs": []
    },
    {
      "cell_type": "code",
      "metadata": {
        "id": "xX3PutFkbpGu",
        "colab": {
          "base_uri": "https://localhost:8080/",
          "height": 293
        },
        "outputId": "91ed6cb2-4eba-4447-9911-affdec601081"
      },
      "source": [
        "import matplotlib.pyplot as plt\n",
        "\n",
        "figure, ax = plt.subplots(nrows=3, ncols=2)\n",
        "figure.tight_layout()\n",
        "\n",
        "Torque_1 = []\n",
        "Torque_2 = []\n",
        "Torque_3 = []\n",
        "Torque_4 = []\n",
        "Torque_5 = []\n",
        "Torque_6 = []\n",
        "\n",
        "\n",
        "for j in range(0,N):\n",
        "  vel_x = -100.0 * (2*pi/5)* sin(theta[j])  \n",
        "  vel_z = 100.0 * (2*pi/5)* cos(theta[j])\n",
        "\n",
        "  Velocity_vector = Matrix([vel_x,0.0, vel_z, 0.0, 0.0, 0.0])\n",
        "\n",
        "  Inverse_Jacobian = J.evalf(3, subs={theta1:q[0],theta2:q[1],theta4:q[2],theta5:q[3],theta6:q[4],theta7:q[5]}).inv()\n",
        "  \n",
        "  Ang_vel = Inverse_Jacobian*Velocity_vector\n",
        "\n",
        "  q = q + (Ang_vel*(5/N))\n",
        "\n",
        "  Potential_energy = PE_Vec.evalf(3, subs={theta1:q[0],theta2:q[1],theta4:q[2],theta5:q[3],theta6:q[4],theta7:q[5]})\n",
        "\n",
        "  Joint_Torque = Potential_energy - J.evalf(3, subs={theta1:q[0],theta2:q[1],theta4:q[2],theta5:q[3],theta6:q[4],theta7:q[5]}).T * Wrench\n",
        "\n",
        "  Torque_1.append(Joint_Torque[0]) \n",
        "  Torque_2.append(Joint_Torque[1]) \n",
        "  Torque_3.append(Joint_Torque[2]) \n",
        "  Torque_4.append(Joint_Torque[3]) \n",
        "  Torque_5.append(Joint_Torque[4]) \n",
        "  Torque_6.append(Joint_Torque[5])\n",
        " \n",
        "plt.title('Joint Torque vs Time')\n",
        "\n",
        "plt.subplot(3, 2, 1)\n",
        "plt.scatter(range(0,200),Torque_1)\n",
        "\n",
        "plt.subplot(3, 2, 2)\n",
        "plt.scatter(range(0,200),Torque_2)\n",
        "\n",
        "plt.subplot(3, 2, 3)\n",
        "plt.scatter(range(0,200),Torque_3)\n",
        "\n",
        "plt.subplot(3, 2, 4)\n",
        "plt.scatter(range(0,200),Torque_4)\n",
        "\n",
        "plt.subplot(3, 2, 5)\n",
        "plt.scatter(range(0,200),Torque_5)\n",
        "\n",
        "plt.subplot(3, 2, 6)\n",
        "plt.scatter(range(0,200),Torque_6)\n",
        "\n",
        "\n",
        "\n",
        "plt.show()\n"
      ],
      "execution_count": 235,
      "outputs": [
        {
          "output_type": "display_data",
          "data": {
            "image/png": "[encoded data removed]",
            "text/plain": [
              "<Figure size 432x288 with 6 Axes>"
            ]
          },
          "metadata": {
            "needs_background": "light"
          }
        }
      ]
    }
  ]
}